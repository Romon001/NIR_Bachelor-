{
 "cells": [
  {
   "cell_type": "markdown",
   "metadata": {},
   "source": [
    "## Part 1 "
   ]
  },
  {
   "cell_type": "code",
   "execution_count": 2,
   "metadata": {},
   "outputs": [],
   "source": [
    "import pandas as pd\n",
    "import numpy as np\n",
    "from sklearn.model_selection import train_test_split\n",
    "from sklearn.metrics import mean_absolute_error\n",
    "from sklearn.linear_model import LinearRegression\n"
   ]
  },
  {
   "cell_type": "code",
   "execution_count": 3,
   "metadata": {},
   "outputs": [],
   "source": [
    "# Значения из таблицы не переводятся обычным float(\"12,5\"), поэтому такой костыльный перевод \n",
    "def float_with_comma(st):\n",
    "    if (type(st) == type('string')):\n",
    "        return float(st.replace(',','.'))\n",
    "    return float(st)"
   ]
  },
  {
   "cell_type": "code",
   "execution_count": 5,
   "metadata": {},
   "outputs": [
    {
     "ename": "FileNotFoundError",
     "evalue": "[Errno 2] No such file or directory: \"..'Все операции.xlsx'\"",
     "output_type": "error",
     "traceback": [
      "\u001b[1;31m---------------------------------------------------------------------------\u001b[0m",
      "\u001b[1;31mFileNotFoundError\u001b[0m                         Traceback (most recent call last)",
      "\u001b[1;32m<ipython-input-5-ffc709a62a50>\u001b[0m in \u001b[0;36m<module>\u001b[1;34m\u001b[0m\n\u001b[0;32m      1\u001b[0m \u001b[0mname_of_file\u001b[0m \u001b[1;33m=\u001b[0m  \u001b[1;34m\"..\\'Все операции.xlsx'\"\u001b[0m\u001b[1;33m\u001b[0m\u001b[1;33m\u001b[0m\u001b[0m\n\u001b[1;32m----> 2\u001b[1;33m \u001b[0mxl_table\u001b[0m \u001b[1;33m=\u001b[0m \u001b[0mpd\u001b[0m\u001b[1;33m.\u001b[0m\u001b[0mread_excel\u001b[0m\u001b[1;33m(\u001b[0m\u001b[0mname_of_file\u001b[0m\u001b[1;33m)\u001b[0m\u001b[1;33m\u001b[0m\u001b[1;33m\u001b[0m\u001b[0m\n\u001b[0m",
      "\u001b[1;32m~\\anaconda3\\lib\\site-packages\\pandas\\io\\excel\\_base.py\u001b[0m in \u001b[0;36mread_excel\u001b[1;34m(io, sheet_name, header, names, index_col, usecols, squeeze, dtype, engine, converters, true_values, false_values, skiprows, nrows, na_values, keep_default_na, verbose, parse_dates, date_parser, thousands, comment, skipfooter, convert_float, mangle_dupe_cols, **kwds)\u001b[0m\n\u001b[0;32m    302\u001b[0m \u001b[1;33m\u001b[0m\u001b[0m\n\u001b[0;32m    303\u001b[0m     \u001b[1;32mif\u001b[0m \u001b[1;32mnot\u001b[0m \u001b[0misinstance\u001b[0m\u001b[1;33m(\u001b[0m\u001b[0mio\u001b[0m\u001b[1;33m,\u001b[0m \u001b[0mExcelFile\u001b[0m\u001b[1;33m)\u001b[0m\u001b[1;33m:\u001b[0m\u001b[1;33m\u001b[0m\u001b[1;33m\u001b[0m\u001b[0m\n\u001b[1;32m--> 304\u001b[1;33m         \u001b[0mio\u001b[0m \u001b[1;33m=\u001b[0m \u001b[0mExcelFile\u001b[0m\u001b[1;33m(\u001b[0m\u001b[0mio\u001b[0m\u001b[1;33m,\u001b[0m \u001b[0mengine\u001b[0m\u001b[1;33m=\u001b[0m\u001b[0mengine\u001b[0m\u001b[1;33m)\u001b[0m\u001b[1;33m\u001b[0m\u001b[1;33m\u001b[0m\u001b[0m\n\u001b[0m\u001b[0;32m    305\u001b[0m     \u001b[1;32melif\u001b[0m \u001b[0mengine\u001b[0m \u001b[1;32mand\u001b[0m \u001b[0mengine\u001b[0m \u001b[1;33m!=\u001b[0m \u001b[0mio\u001b[0m\u001b[1;33m.\u001b[0m\u001b[0mengine\u001b[0m\u001b[1;33m:\u001b[0m\u001b[1;33m\u001b[0m\u001b[1;33m\u001b[0m\u001b[0m\n\u001b[0;32m    306\u001b[0m         raise ValueError(\n",
      "\u001b[1;32m~\\anaconda3\\lib\\site-packages\\pandas\\io\\excel\\_base.py\u001b[0m in \u001b[0;36m__init__\u001b[1;34m(self, io, engine)\u001b[0m\n\u001b[0;32m    819\u001b[0m         \u001b[0mself\u001b[0m\u001b[1;33m.\u001b[0m\u001b[0m_io\u001b[0m \u001b[1;33m=\u001b[0m \u001b[0mstringify_path\u001b[0m\u001b[1;33m(\u001b[0m\u001b[0mio\u001b[0m\u001b[1;33m)\u001b[0m\u001b[1;33m\u001b[0m\u001b[1;33m\u001b[0m\u001b[0m\n\u001b[0;32m    820\u001b[0m \u001b[1;33m\u001b[0m\u001b[0m\n\u001b[1;32m--> 821\u001b[1;33m         \u001b[0mself\u001b[0m\u001b[1;33m.\u001b[0m\u001b[0m_reader\u001b[0m \u001b[1;33m=\u001b[0m \u001b[0mself\u001b[0m\u001b[1;33m.\u001b[0m\u001b[0m_engines\u001b[0m\u001b[1;33m[\u001b[0m\u001b[0mengine\u001b[0m\u001b[1;33m]\u001b[0m\u001b[1;33m(\u001b[0m\u001b[0mself\u001b[0m\u001b[1;33m.\u001b[0m\u001b[0m_io\u001b[0m\u001b[1;33m)\u001b[0m\u001b[1;33m\u001b[0m\u001b[1;33m\u001b[0m\u001b[0m\n\u001b[0m\u001b[0;32m    822\u001b[0m \u001b[1;33m\u001b[0m\u001b[0m\n\u001b[0;32m    823\u001b[0m     \u001b[1;32mdef\u001b[0m \u001b[0m__fspath__\u001b[0m\u001b[1;33m(\u001b[0m\u001b[0mself\u001b[0m\u001b[1;33m)\u001b[0m\u001b[1;33m:\u001b[0m\u001b[1;33m\u001b[0m\u001b[1;33m\u001b[0m\u001b[0m\n",
      "\u001b[1;32m~\\anaconda3\\lib\\site-packages\\pandas\\io\\excel\\_xlrd.py\u001b[0m in \u001b[0;36m__init__\u001b[1;34m(self, filepath_or_buffer)\u001b[0m\n\u001b[0;32m     19\u001b[0m         \u001b[0merr_msg\u001b[0m \u001b[1;33m=\u001b[0m \u001b[1;34m\"Install xlrd >= 1.0.0 for Excel support\"\u001b[0m\u001b[1;33m\u001b[0m\u001b[1;33m\u001b[0m\u001b[0m\n\u001b[0;32m     20\u001b[0m         \u001b[0mimport_optional_dependency\u001b[0m\u001b[1;33m(\u001b[0m\u001b[1;34m\"xlrd\"\u001b[0m\u001b[1;33m,\u001b[0m \u001b[0mextra\u001b[0m\u001b[1;33m=\u001b[0m\u001b[0merr_msg\u001b[0m\u001b[1;33m)\u001b[0m\u001b[1;33m\u001b[0m\u001b[1;33m\u001b[0m\u001b[0m\n\u001b[1;32m---> 21\u001b[1;33m         \u001b[0msuper\u001b[0m\u001b[1;33m(\u001b[0m\u001b[1;33m)\u001b[0m\u001b[1;33m.\u001b[0m\u001b[0m__init__\u001b[0m\u001b[1;33m(\u001b[0m\u001b[0mfilepath_or_buffer\u001b[0m\u001b[1;33m)\u001b[0m\u001b[1;33m\u001b[0m\u001b[1;33m\u001b[0m\u001b[0m\n\u001b[0m\u001b[0;32m     22\u001b[0m \u001b[1;33m\u001b[0m\u001b[0m\n\u001b[0;32m     23\u001b[0m     \u001b[1;33m@\u001b[0m\u001b[0mproperty\u001b[0m\u001b[1;33m\u001b[0m\u001b[1;33m\u001b[0m\u001b[0m\n",
      "\u001b[1;32m~\\anaconda3\\lib\\site-packages\\pandas\\io\\excel\\_base.py\u001b[0m in \u001b[0;36m__init__\u001b[1;34m(self, filepath_or_buffer)\u001b[0m\n\u001b[0;32m    351\u001b[0m             \u001b[0mself\u001b[0m\u001b[1;33m.\u001b[0m\u001b[0mbook\u001b[0m \u001b[1;33m=\u001b[0m \u001b[0mself\u001b[0m\u001b[1;33m.\u001b[0m\u001b[0mload_workbook\u001b[0m\u001b[1;33m(\u001b[0m\u001b[0mfilepath_or_buffer\u001b[0m\u001b[1;33m)\u001b[0m\u001b[1;33m\u001b[0m\u001b[1;33m\u001b[0m\u001b[0m\n\u001b[0;32m    352\u001b[0m         \u001b[1;32melif\u001b[0m \u001b[0misinstance\u001b[0m\u001b[1;33m(\u001b[0m\u001b[0mfilepath_or_buffer\u001b[0m\u001b[1;33m,\u001b[0m \u001b[0mstr\u001b[0m\u001b[1;33m)\u001b[0m\u001b[1;33m:\u001b[0m\u001b[1;33m\u001b[0m\u001b[1;33m\u001b[0m\u001b[0m\n\u001b[1;32m--> 353\u001b[1;33m             \u001b[0mself\u001b[0m\u001b[1;33m.\u001b[0m\u001b[0mbook\u001b[0m \u001b[1;33m=\u001b[0m \u001b[0mself\u001b[0m\u001b[1;33m.\u001b[0m\u001b[0mload_workbook\u001b[0m\u001b[1;33m(\u001b[0m\u001b[0mfilepath_or_buffer\u001b[0m\u001b[1;33m)\u001b[0m\u001b[1;33m\u001b[0m\u001b[1;33m\u001b[0m\u001b[0m\n\u001b[0m\u001b[0;32m    354\u001b[0m         \u001b[1;32melif\u001b[0m \u001b[0misinstance\u001b[0m\u001b[1;33m(\u001b[0m\u001b[0mfilepath_or_buffer\u001b[0m\u001b[1;33m,\u001b[0m \u001b[0mbytes\u001b[0m\u001b[1;33m)\u001b[0m\u001b[1;33m:\u001b[0m\u001b[1;33m\u001b[0m\u001b[1;33m\u001b[0m\u001b[0m\n\u001b[0;32m    355\u001b[0m             \u001b[0mself\u001b[0m\u001b[1;33m.\u001b[0m\u001b[0mbook\u001b[0m \u001b[1;33m=\u001b[0m \u001b[0mself\u001b[0m\u001b[1;33m.\u001b[0m\u001b[0mload_workbook\u001b[0m\u001b[1;33m(\u001b[0m\u001b[0mBytesIO\u001b[0m\u001b[1;33m(\u001b[0m\u001b[0mfilepath_or_buffer\u001b[0m\u001b[1;33m)\u001b[0m\u001b[1;33m)\u001b[0m\u001b[1;33m\u001b[0m\u001b[1;33m\u001b[0m\u001b[0m\n",
      "\u001b[1;32m~\\anaconda3\\lib\\site-packages\\pandas\\io\\excel\\_xlrd.py\u001b[0m in \u001b[0;36mload_workbook\u001b[1;34m(self, filepath_or_buffer)\u001b[0m\n\u001b[0;32m     34\u001b[0m             \u001b[1;32mreturn\u001b[0m \u001b[0mopen_workbook\u001b[0m\u001b[1;33m(\u001b[0m\u001b[0mfile_contents\u001b[0m\u001b[1;33m=\u001b[0m\u001b[0mdata\u001b[0m\u001b[1;33m)\u001b[0m\u001b[1;33m\u001b[0m\u001b[1;33m\u001b[0m\u001b[0m\n\u001b[0;32m     35\u001b[0m         \u001b[1;32melse\u001b[0m\u001b[1;33m:\u001b[0m\u001b[1;33m\u001b[0m\u001b[1;33m\u001b[0m\u001b[0m\n\u001b[1;32m---> 36\u001b[1;33m             \u001b[1;32mreturn\u001b[0m \u001b[0mopen_workbook\u001b[0m\u001b[1;33m(\u001b[0m\u001b[0mfilepath_or_buffer\u001b[0m\u001b[1;33m)\u001b[0m\u001b[1;33m\u001b[0m\u001b[1;33m\u001b[0m\u001b[0m\n\u001b[0m\u001b[0;32m     37\u001b[0m \u001b[1;33m\u001b[0m\u001b[0m\n\u001b[0;32m     38\u001b[0m     \u001b[1;33m@\u001b[0m\u001b[0mproperty\u001b[0m\u001b[1;33m\u001b[0m\u001b[1;33m\u001b[0m\u001b[0m\n",
      "\u001b[1;32m~\\anaconda3\\lib\\site-packages\\xlrd\\__init__.py\u001b[0m in \u001b[0;36mopen_workbook\u001b[1;34m(filename, logfile, verbosity, use_mmap, file_contents, encoding_override, formatting_info, on_demand, ragged_rows)\u001b[0m\n\u001b[0;32m    109\u001b[0m     \u001b[1;32melse\u001b[0m\u001b[1;33m:\u001b[0m\u001b[1;33m\u001b[0m\u001b[1;33m\u001b[0m\u001b[0m\n\u001b[0;32m    110\u001b[0m         \u001b[0mfilename\u001b[0m \u001b[1;33m=\u001b[0m \u001b[0mos\u001b[0m\u001b[1;33m.\u001b[0m\u001b[0mpath\u001b[0m\u001b[1;33m.\u001b[0m\u001b[0mexpanduser\u001b[0m\u001b[1;33m(\u001b[0m\u001b[0mfilename\u001b[0m\u001b[1;33m)\u001b[0m\u001b[1;33m\u001b[0m\u001b[1;33m\u001b[0m\u001b[0m\n\u001b[1;32m--> 111\u001b[1;33m         \u001b[1;32mwith\u001b[0m \u001b[0mopen\u001b[0m\u001b[1;33m(\u001b[0m\u001b[0mfilename\u001b[0m\u001b[1;33m,\u001b[0m \u001b[1;34m\"rb\"\u001b[0m\u001b[1;33m)\u001b[0m \u001b[1;32mas\u001b[0m \u001b[0mf\u001b[0m\u001b[1;33m:\u001b[0m\u001b[1;33m\u001b[0m\u001b[1;33m\u001b[0m\u001b[0m\n\u001b[0m\u001b[0;32m    112\u001b[0m             \u001b[0mpeek\u001b[0m \u001b[1;33m=\u001b[0m \u001b[0mf\u001b[0m\u001b[1;33m.\u001b[0m\u001b[0mread\u001b[0m\u001b[1;33m(\u001b[0m\u001b[0mpeeksz\u001b[0m\u001b[1;33m)\u001b[0m\u001b[1;33m\u001b[0m\u001b[1;33m\u001b[0m\u001b[0m\n\u001b[0;32m    113\u001b[0m     \u001b[1;32mif\u001b[0m \u001b[0mpeek\u001b[0m \u001b[1;33m==\u001b[0m \u001b[1;34mb\"PK\\x03\\x04\"\u001b[0m\u001b[1;33m:\u001b[0m \u001b[1;31m# a ZIP file\u001b[0m\u001b[1;33m\u001b[0m\u001b[1;33m\u001b[0m\u001b[0m\n",
      "\u001b[1;31mFileNotFoundError\u001b[0m: [Errno 2] No such file or directory: \"..'Все операции.xlsx'\""
     ]
    }
   ],
   "source": [
    "name_of_file =  \"..\\'Все операции.xlsx'\"\n",
    "xl_table = pd.read_excel(name_of_file)\n"
   ]
  },
  {
   "cell_type": "markdown",
   "metadata": {},
   "source": [
    "Метод  **parse_blends_table(xl_table)**  переводит исходную таблицу со всеми данными по смешениям в таблицу, в которой каждая строка – отдельное смешение, столбцы – значение $P_i*V_i$  для каждого из компонентов, а также столбец target(\"ИОЧ\") и вспомогательный столбец(\"Линейный ИОЧ\")"
   ]
  },
  {
   "cell_type": "code",
   "execution_count": 52,
   "metadata": {},
   "outputs": [],
   "source": [
    "\n",
    "def parse_blends_table(xl_table,target_column=\"ИОЧ\"):\n",
    "    all_blend = pd.DataFrame()\n",
    "    i = 0 \n",
    "    while i<(len(xl_table.index)):\n",
    "        if xl_table.loc[i][\"A\"] == \"Компоненты смешения\":\n",
    "            i+=1\n",
    "            start_index = i\n",
    "            continue\n",
    "        if xl_table.loc[i][\"A\"] == \"ЛИН.СВОЙСТВА:\":\n",
    "            end_index = i\n",
    "            single_blend = get_single_blend(start_index,end_index,target_column)\n",
    "            all_blend = all_blend.append(single_blend, ignore_index=True)\n",
    "            i+=1\n",
    "            continue\n",
    "        i+=1\n",
    "    all_blend = all_blend.fillna(0)    \n",
    "    return all_blend"
   ]
  },
  {
   "cell_type": "markdown",
   "metadata": {},
   "source": [
    "Метод **get_single_blend(start_index,end_index)**.\n",
    "Используется для приведения данных об одном смешении в строку.Каждый столбец в строке - $P_i*V_i$ каждого компонента\n"
   ]
  },
  {
   "cell_type": "code",
   "execution_count": 53,
   "metadata": {},
   "outputs": [],
   "source": [
    "def get_single_blend(start_index,end_index,target_column):\n",
    "    blend_data = {}\n",
    "    full_volume = float_with_comma(xl_table.loc[end_index][\"D\"])\n",
    "    for i in range(start_index,end_index):\n",
    "        if xl_table.loc[i][\"A\"] == \"ПРОДУКТ:\":\n",
    "            blend_data[target_column] = [xl_table.loc[i][target_column]]    \n",
    "            break\n",
    "        blend_data[xl_table.loc[i][\"A\"]] = [float_with_comma(xl_table.loc[i][\"D\"])*float_with_comma(xl_table.loc[i][target_column])/full_volume]\n",
    "    blend_data[f\"Линейный {target_column}\"] =[xl_table.loc[end_index][target_column]]\n",
    "    return pd.DataFrame.from_dict(blend_data)    "
   ]
  },
  {
   "cell_type": "code",
   "execution_count": 54,
   "metadata": {
    "scrolled": true
   },
   "outputs": [
    {
     "data": {
      "text/html": [
       "<div>\n",
       "<style scoped>\n",
       "    .dataframe tbody tr th:only-of-type {\n",
       "        vertical-align: middle;\n",
       "    }\n",
       "\n",
       "    .dataframe tbody tr th {\n",
       "        vertical-align: top;\n",
       "    }\n",
       "\n",
       "    .dataframe thead th {\n",
       "        text-align: right;\n",
       "    }\n",
       "</style>\n",
       "<table border=\"1\" class=\"dataframe\">\n",
       "  <thead>\n",
       "    <tr style=\"text-align: right;\">\n",
       "      <th></th>\n",
       "      <th>Бензин кат. крекинга г/о уст. ГО БКК</th>\n",
       "      <th>Бензин кат. риформ. Л-35/11-1000</th>\n",
       "      <th>Бензин-рафинат с.400 КПА</th>\n",
       "      <th>Бутан норм.м.А</th>\n",
       "      <th>Смесь бензинов прямогонных</th>\n",
       "      <th>Фр.изопентановая</th>\n",
       "      <th>Бензин Нормаль-80 (АИ-80-К5)</th>\n",
       "      <th>ИОЧ</th>\n",
       "      <th>Линейный ИОЧ</th>\n",
       "      <th>Алкилбензин</th>\n",
       "      <th>Бензин кат. крекинга (С-300 КТ-1/1)</th>\n",
       "      <th>Бензин кат. риформинга Л-35/11-600</th>\n",
       "      <th>Изомеризат Изомалк-2</th>\n",
       "      <th>Бензин Регуляр-92 (АИ-92-К5)</th>\n",
       "      <th>Концентрат толуольный м. А</th>\n",
       "      <th>МТБЭ марка Б</th>\n",
       "      <th>Бензин Супер Евро-98 в.III (АИ-98-К5)</th>\n",
       "      <th>Бензин Премиум Евро-95 в.III (АИ-95-К5)</th>\n",
       "      <th>Платформат с.300 КПА</th>\n",
       "      <th>Легкий платформат с.400 КПА</th>\n",
       "    </tr>\n",
       "  </thead>\n",
       "  <tbody>\n",
       "    <tr>\n",
       "      <th>0</th>\n",
       "      <td>27.750750</td>\n",
       "      <td>11.984297</td>\n",
       "      <td>9.394374</td>\n",
       "      <td>5.426652</td>\n",
       "      <td>5.505758</td>\n",
       "      <td>4.930098</td>\n",
       "      <td>17.155823</td>\n",
       "      <td>82.7</td>\n",
       "      <td>82.16</td>\n",
       "      <td>0.000000</td>\n",
       "      <td>0.000000</td>\n",
       "      <td>0.000000</td>\n",
       "      <td>0.000000</td>\n",
       "      <td>0.000000</td>\n",
       "      <td>0.000000</td>\n",
       "      <td>0.000000</td>\n",
       "      <td>0.000000</td>\n",
       "      <td>0.000000</td>\n",
       "      <td>0.0</td>\n",
       "      <td>0.000000</td>\n",
       "    </tr>\n",
       "    <tr>\n",
       "      <th>1</th>\n",
       "      <td>12.902391</td>\n",
       "      <td>12.749719</td>\n",
       "      <td>0.000000</td>\n",
       "      <td>4.187213</td>\n",
       "      <td>0.000000</td>\n",
       "      <td>5.843531</td>\n",
       "      <td>0.000000</td>\n",
       "      <td>93.0</td>\n",
       "      <td>94.00</td>\n",
       "      <td>3.390131</td>\n",
       "      <td>23.834106</td>\n",
       "      <td>7.801163</td>\n",
       "      <td>3.618273</td>\n",
       "      <td>19.766538</td>\n",
       "      <td>0.000000</td>\n",
       "      <td>0.000000</td>\n",
       "      <td>0.000000</td>\n",
       "      <td>0.000000</td>\n",
       "      <td>0.0</td>\n",
       "      <td>0.000000</td>\n",
       "    </tr>\n",
       "    <tr>\n",
       "      <th>2</th>\n",
       "      <td>0.000000</td>\n",
       "      <td>12.901288</td>\n",
       "      <td>0.000000</td>\n",
       "      <td>1.331673</td>\n",
       "      <td>0.000000</td>\n",
       "      <td>12.101151</td>\n",
       "      <td>0.000000</td>\n",
       "      <td>98.4</td>\n",
       "      <td>98.07</td>\n",
       "      <td>15.013351</td>\n",
       "      <td>4.797218</td>\n",
       "      <td>4.572937</td>\n",
       "      <td>6.747334</td>\n",
       "      <td>0.000000</td>\n",
       "      <td>3.091612</td>\n",
       "      <td>0.875075</td>\n",
       "      <td>30.833468</td>\n",
       "      <td>0.000000</td>\n",
       "      <td>0.0</td>\n",
       "      <td>0.000000</td>\n",
       "    </tr>\n",
       "    <tr>\n",
       "      <th>3</th>\n",
       "      <td>4.087311</td>\n",
       "      <td>3.927542</td>\n",
       "      <td>0.000000</td>\n",
       "      <td>1.287547</td>\n",
       "      <td>0.000000</td>\n",
       "      <td>1.508798</td>\n",
       "      <td>0.000000</td>\n",
       "      <td>93.2</td>\n",
       "      <td>93.49</td>\n",
       "      <td>1.811048</td>\n",
       "      <td>8.223108</td>\n",
       "      <td>3.170250</td>\n",
       "      <td>1.327079</td>\n",
       "      <td>68.206045</td>\n",
       "      <td>0.000000</td>\n",
       "      <td>0.000000</td>\n",
       "      <td>0.000000</td>\n",
       "      <td>0.000000</td>\n",
       "      <td>0.0</td>\n",
       "      <td>0.000000</td>\n",
       "    </tr>\n",
       "    <tr>\n",
       "      <th>4</th>\n",
       "      <td>4.031149</td>\n",
       "      <td>14.596592</td>\n",
       "      <td>0.000000</td>\n",
       "      <td>1.768249</td>\n",
       "      <td>0.000000</td>\n",
       "      <td>3.951719</td>\n",
       "      <td>0.000000</td>\n",
       "      <td>95.2</td>\n",
       "      <td>95.65</td>\n",
       "      <td>12.597043</td>\n",
       "      <td>11.440354</td>\n",
       "      <td>6.723804</td>\n",
       "      <td>3.598736</td>\n",
       "      <td>0.000000</td>\n",
       "      <td>0.000000</td>\n",
       "      <td>0.000000</td>\n",
       "      <td>0.000000</td>\n",
       "      <td>36.965182</td>\n",
       "      <td>0.0</td>\n",
       "      <td>0.000000</td>\n",
       "    </tr>\n",
       "    <tr>\n",
       "      <th>...</th>\n",
       "      <td>...</td>\n",
       "      <td>...</td>\n",
       "      <td>...</td>\n",
       "      <td>...</td>\n",
       "      <td>...</td>\n",
       "      <td>...</td>\n",
       "      <td>...</td>\n",
       "      <td>...</td>\n",
       "      <td>...</td>\n",
       "      <td>...</td>\n",
       "      <td>...</td>\n",
       "      <td>...</td>\n",
       "      <td>...</td>\n",
       "      <td>...</td>\n",
       "      <td>...</td>\n",
       "      <td>...</td>\n",
       "      <td>...</td>\n",
       "      <td>...</td>\n",
       "      <td>...</td>\n",
       "      <td>...</td>\n",
       "    </tr>\n",
       "    <tr>\n",
       "      <th>988</th>\n",
       "      <td>2.200054</td>\n",
       "      <td>6.719221</td>\n",
       "      <td>0.000000</td>\n",
       "      <td>2.102629</td>\n",
       "      <td>0.654734</td>\n",
       "      <td>5.955813</td>\n",
       "      <td>0.000000</td>\n",
       "      <td>95.1</td>\n",
       "      <td>94.89</td>\n",
       "      <td>3.930751</td>\n",
       "      <td>12.212898</td>\n",
       "      <td>0.000000</td>\n",
       "      <td>2.866703</td>\n",
       "      <td>0.000000</td>\n",
       "      <td>1.201693</td>\n",
       "      <td>1.923818</td>\n",
       "      <td>0.000000</td>\n",
       "      <td>55.295770</td>\n",
       "      <td>0.0</td>\n",
       "      <td>0.000000</td>\n",
       "    </tr>\n",
       "    <tr>\n",
       "      <th>989</th>\n",
       "      <td>13.098942</td>\n",
       "      <td>10.171282</td>\n",
       "      <td>0.000000</td>\n",
       "      <td>2.300137</td>\n",
       "      <td>1.818497</td>\n",
       "      <td>6.097041</td>\n",
       "      <td>0.000000</td>\n",
       "      <td>92.2</td>\n",
       "      <td>92.01</td>\n",
       "      <td>4.307101</td>\n",
       "      <td>0.115098</td>\n",
       "      <td>0.000000</td>\n",
       "      <td>2.886154</td>\n",
       "      <td>39.319539</td>\n",
       "      <td>0.000000</td>\n",
       "      <td>0.000000</td>\n",
       "      <td>0.000000</td>\n",
       "      <td>0.000000</td>\n",
       "      <td>0.0</td>\n",
       "      <td>1.877353</td>\n",
       "    </tr>\n",
       "    <tr>\n",
       "      <th>990</th>\n",
       "      <td>9.822558</td>\n",
       "      <td>10.807302</td>\n",
       "      <td>0.000000</td>\n",
       "      <td>2.292879</td>\n",
       "      <td>1.873370</td>\n",
       "      <td>7.224287</td>\n",
       "      <td>0.000000</td>\n",
       "      <td>92.0</td>\n",
       "      <td>92.37</td>\n",
       "      <td>3.240264</td>\n",
       "      <td>14.113982</td>\n",
       "      <td>0.000000</td>\n",
       "      <td>3.928721</td>\n",
       "      <td>38.721581</td>\n",
       "      <td>0.000000</td>\n",
       "      <td>0.000000</td>\n",
       "      <td>0.000000</td>\n",
       "      <td>0.000000</td>\n",
       "      <td>0.0</td>\n",
       "      <td>0.593624</td>\n",
       "    </tr>\n",
       "    <tr>\n",
       "      <th>991</th>\n",
       "      <td>0.000000</td>\n",
       "      <td>17.269287</td>\n",
       "      <td>0.000000</td>\n",
       "      <td>4.087827</td>\n",
       "      <td>1.719202</td>\n",
       "      <td>7.798083</td>\n",
       "      <td>0.000000</td>\n",
       "      <td>95.2</td>\n",
       "      <td>95.09</td>\n",
       "      <td>8.348178</td>\n",
       "      <td>18.612928</td>\n",
       "      <td>0.000000</td>\n",
       "      <td>4.827715</td>\n",
       "      <td>0.000000</td>\n",
       "      <td>1.520507</td>\n",
       "      <td>2.708080</td>\n",
       "      <td>0.000000</td>\n",
       "      <td>28.030597</td>\n",
       "      <td>0.0</td>\n",
       "      <td>0.470065</td>\n",
       "    </tr>\n",
       "    <tr>\n",
       "      <th>992</th>\n",
       "      <td>17.171990</td>\n",
       "      <td>12.349409</td>\n",
       "      <td>0.000000</td>\n",
       "      <td>3.713253</td>\n",
       "      <td>1.708862</td>\n",
       "      <td>6.504272</td>\n",
       "      <td>0.000000</td>\n",
       "      <td>92.0</td>\n",
       "      <td>92.29</td>\n",
       "      <td>4.485908</td>\n",
       "      <td>14.294142</td>\n",
       "      <td>0.000000</td>\n",
       "      <td>3.251968</td>\n",
       "      <td>27.570143</td>\n",
       "      <td>0.000000</td>\n",
       "      <td>0.000000</td>\n",
       "      <td>0.000000</td>\n",
       "      <td>0.000000</td>\n",
       "      <td>0.0</td>\n",
       "      <td>1.347664</td>\n",
       "    </tr>\n",
       "  </tbody>\n",
       "</table>\n",
       "<p>993 rows × 20 columns</p>\n",
       "</div>"
      ],
      "text/plain": [
       "     Бензин кат. крекинга г/о уст. ГО БКК  Бензин кат. риформ. Л-35/11-1000  \\\n",
       "0                               27.750750                         11.984297   \n",
       "1                               12.902391                         12.749719   \n",
       "2                                0.000000                         12.901288   \n",
       "3                                4.087311                          3.927542   \n",
       "4                                4.031149                         14.596592   \n",
       "..                                    ...                               ...   \n",
       "988                              2.200054                          6.719221   \n",
       "989                             13.098942                         10.171282   \n",
       "990                              9.822558                         10.807302   \n",
       "991                              0.000000                         17.269287   \n",
       "992                             17.171990                         12.349409   \n",
       "\n",
       "     Бензин-рафинат с.400 КПА  Бутан норм.м.А  Смесь бензинов прямогонных  \\\n",
       "0                    9.394374        5.426652                    5.505758   \n",
       "1                    0.000000        4.187213                    0.000000   \n",
       "2                    0.000000        1.331673                    0.000000   \n",
       "3                    0.000000        1.287547                    0.000000   \n",
       "4                    0.000000        1.768249                    0.000000   \n",
       "..                        ...             ...                         ...   \n",
       "988                  0.000000        2.102629                    0.654734   \n",
       "989                  0.000000        2.300137                    1.818497   \n",
       "990                  0.000000        2.292879                    1.873370   \n",
       "991                  0.000000        4.087827                    1.719202   \n",
       "992                  0.000000        3.713253                    1.708862   \n",
       "\n",
       "     Фр.изопентановая  Бензин Нормаль-80 (АИ-80-К5)   ИОЧ  Линейный ИОЧ  \\\n",
       "0            4.930098                     17.155823  82.7         82.16   \n",
       "1            5.843531                      0.000000  93.0         94.00   \n",
       "2           12.101151                      0.000000  98.4         98.07   \n",
       "3            1.508798                      0.000000  93.2         93.49   \n",
       "4            3.951719                      0.000000  95.2         95.65   \n",
       "..                ...                           ...   ...           ...   \n",
       "988          5.955813                      0.000000  95.1         94.89   \n",
       "989          6.097041                      0.000000  92.2         92.01   \n",
       "990          7.224287                      0.000000  92.0         92.37   \n",
       "991          7.798083                      0.000000  95.2         95.09   \n",
       "992          6.504272                      0.000000  92.0         92.29   \n",
       "\n",
       "     Алкилбензин  Бензин кат. крекинга (С-300 КТ-1/1)  \\\n",
       "0       0.000000                             0.000000   \n",
       "1       3.390131                            23.834106   \n",
       "2      15.013351                             4.797218   \n",
       "3       1.811048                             8.223108   \n",
       "4      12.597043                            11.440354   \n",
       "..           ...                                  ...   \n",
       "988     3.930751                            12.212898   \n",
       "989     4.307101                             0.115098   \n",
       "990     3.240264                            14.113982   \n",
       "991     8.348178                            18.612928   \n",
       "992     4.485908                            14.294142   \n",
       "\n",
       "     Бензин кат. риформинга Л-35/11-600  Изомеризат Изомалк-2  \\\n",
       "0                              0.000000              0.000000   \n",
       "1                              7.801163              3.618273   \n",
       "2                              4.572937              6.747334   \n",
       "3                              3.170250              1.327079   \n",
       "4                              6.723804              3.598736   \n",
       "..                                  ...                   ...   \n",
       "988                            0.000000              2.866703   \n",
       "989                            0.000000              2.886154   \n",
       "990                            0.000000              3.928721   \n",
       "991                            0.000000              4.827715   \n",
       "992                            0.000000              3.251968   \n",
       "\n",
       "     Бензин Регуляр-92 (АИ-92-К5)  Концентрат толуольный м. А  МТБЭ марка Б  \\\n",
       "0                        0.000000                    0.000000      0.000000   \n",
       "1                       19.766538                    0.000000      0.000000   \n",
       "2                        0.000000                    3.091612      0.875075   \n",
       "3                       68.206045                    0.000000      0.000000   \n",
       "4                        0.000000                    0.000000      0.000000   \n",
       "..                            ...                         ...           ...   \n",
       "988                      0.000000                    1.201693      1.923818   \n",
       "989                     39.319539                    0.000000      0.000000   \n",
       "990                     38.721581                    0.000000      0.000000   \n",
       "991                      0.000000                    1.520507      2.708080   \n",
       "992                     27.570143                    0.000000      0.000000   \n",
       "\n",
       "     Бензин Супер Евро-98 в.III (АИ-98-К5)  \\\n",
       "0                                 0.000000   \n",
       "1                                 0.000000   \n",
       "2                                30.833468   \n",
       "3                                 0.000000   \n",
       "4                                 0.000000   \n",
       "..                                     ...   \n",
       "988                               0.000000   \n",
       "989                               0.000000   \n",
       "990                               0.000000   \n",
       "991                               0.000000   \n",
       "992                               0.000000   \n",
       "\n",
       "     Бензин Премиум Евро-95 в.III (АИ-95-К5)  Платформат с.300 КПА  \\\n",
       "0                                   0.000000                   0.0   \n",
       "1                                   0.000000                   0.0   \n",
       "2                                   0.000000                   0.0   \n",
       "3                                   0.000000                   0.0   \n",
       "4                                  36.965182                   0.0   \n",
       "..                                       ...                   ...   \n",
       "988                                55.295770                   0.0   \n",
       "989                                 0.000000                   0.0   \n",
       "990                                 0.000000                   0.0   \n",
       "991                                28.030597                   0.0   \n",
       "992                                 0.000000                   0.0   \n",
       "\n",
       "     Легкий платформат с.400 КПА  \n",
       "0                       0.000000  \n",
       "1                       0.000000  \n",
       "2                       0.000000  \n",
       "3                       0.000000  \n",
       "4                       0.000000  \n",
       "..                           ...  \n",
       "988                     0.000000  \n",
       "989                     1.877353  \n",
       "990                     0.593624  \n",
       "991                     0.470065  \n",
       "992                     1.347664  \n",
       "\n",
       "[993 rows x 20 columns]"
      ]
     },
     "execution_count": 54,
     "metadata": {},
     "output_type": "execute_result"
    }
   ],
   "source": [
    "parsed_data = parse_blends_table(xl_table,target_column=\"ИОЧ\")\n",
    "parsed_data"
   ]
  },
  {
   "cell_type": "code",
   "execution_count": 31,
   "metadata": {},
   "outputs": [],
   "source": [
    "features = parsed_data.drop(columns=[\"ИОЧ\"])\n",
    "target = parsed_data[\"ИОЧ\"]\n",
    "linear_target = parsed_data[\"Линейный ИОЧ\"]"
   ]
  },
  {
   "cell_type": "code",
   "execution_count": 19,
   "metadata": {},
   "outputs": [
    {
     "ename": "NameError",
     "evalue": "name 'features' is not defined",
     "output_type": "error",
     "traceback": [
      "\u001b[1;31m---------------------------------------------------------------------------\u001b[0m",
      "\u001b[1;31mNameError\u001b[0m                                 Traceback (most recent call last)",
      "\u001b[1;32m<ipython-input-19-62024dfe1a0e>\u001b[0m in \u001b[0;36m<module>\u001b[1;34m\u001b[0m\n\u001b[0;32m      1\u001b[0m \u001b[1;31m# Деление выборки на train и test\u001b[0m\u001b[1;33m\u001b[0m\u001b[1;33m\u001b[0m\u001b[1;33m\u001b[0m\u001b[0m\n\u001b[0;32m      2\u001b[0m \u001b[1;32mfrom\u001b[0m \u001b[0msklearn\u001b[0m\u001b[1;33m.\u001b[0m\u001b[0mmodel_selection\u001b[0m \u001b[1;32mimport\u001b[0m \u001b[0mtrain_test_split\u001b[0m\u001b[1;33m\u001b[0m\u001b[1;33m\u001b[0m\u001b[0m\n\u001b[1;32m----> 3\u001b[1;33m \u001b[0mfeatures_train\u001b[0m\u001b[1;33m,\u001b[0m \u001b[0mfeatures_test\u001b[0m\u001b[1;33m,\u001b[0m \u001b[0mtarget_train\u001b[0m\u001b[1;33m,\u001b[0m \u001b[0mtarget_test\u001b[0m \u001b[1;33m=\u001b[0m \u001b[0mtrain_test_split\u001b[0m\u001b[1;33m(\u001b[0m\u001b[0mfeatures\u001b[0m\u001b[1;33m,\u001b[0m \u001b[0mtarget\u001b[0m\u001b[1;33m,\u001b[0m \u001b[0mtest_size\u001b[0m\u001b[1;33m=\u001b[0m\u001b[1;36m0.3\u001b[0m\u001b[1;33m)\u001b[0m\u001b[1;33m\u001b[0m\u001b[1;33m\u001b[0m\u001b[0m\n\u001b[0m\u001b[0;32m      4\u001b[0m \u001b[0mlinear_target_train\u001b[0m \u001b[1;33m=\u001b[0m \u001b[0mfeatures_train\u001b[0m\u001b[1;33m[\u001b[0m\u001b[1;34m\"Линейный ИОЧ\"\u001b[0m\u001b[1;33m]\u001b[0m\u001b[1;33m\u001b[0m\u001b[1;33m\u001b[0m\u001b[0m\n\u001b[0;32m      5\u001b[0m \u001b[0mlinear_target_test\u001b[0m \u001b[1;33m=\u001b[0m \u001b[0mfeatures_test\u001b[0m\u001b[1;33m[\u001b[0m\u001b[1;34m\"Линейный ИОЧ\"\u001b[0m\u001b[1;33m]\u001b[0m\u001b[1;33m\u001b[0m\u001b[1;33m\u001b[0m\u001b[0m\n",
      "\u001b[1;31mNameError\u001b[0m: name 'features' is not defined"
     ]
    }
   ],
   "source": [
    "# Деление выборки на train и test\n",
    "\n",
    "features_train, features_test, target_train, target_test = train_test_split(features, target, test_size=0.3)\n",
    "linear_target_train = features_train[\"Линейный ИОЧ\"]\n",
    "linear_target_test = features_test[\"Линейный ИОЧ\"]\n",
    "features_test = features_test.drop(columns=['Линейный ИОЧ'])\n",
    "features_train = features_train.drop(columns=['Линейный ИОЧ'])\n",
    "\n"
   ]
  },
  {
   "cell_type": "code",
   "execution_count": 74,
   "metadata": {},
   "outputs": [
    {
     "ename": "NameError",
     "evalue": "name 'features_train' is not defined",
     "output_type": "error",
     "traceback": [
      "\u001b[1;31m---------------------------------------------------------------------------\u001b[0m",
      "\u001b[1;31mNameError\u001b[0m                                 Traceback (most recent call last)",
      "\u001b[1;32m<ipython-input-74-1f28da369102>\u001b[0m in \u001b[0;36m<module>\u001b[1;34m\u001b[0m\n\u001b[0;32m      1\u001b[0m \u001b[1;32mfrom\u001b[0m \u001b[0msklearn\u001b[0m\u001b[1;33m.\u001b[0m\u001b[0mlinear_model\u001b[0m \u001b[1;32mimport\u001b[0m \u001b[0mLinearRegression\u001b[0m\u001b[1;33m\u001b[0m\u001b[1;33m\u001b[0m\u001b[0m\n\u001b[0;32m      2\u001b[0m \u001b[0mlr\u001b[0m \u001b[1;33m=\u001b[0m \u001b[0mLinearRegression\u001b[0m\u001b[1;33m(\u001b[0m\u001b[1;33m)\u001b[0m\u001b[1;33m\u001b[0m\u001b[1;33m\u001b[0m\u001b[0m\n\u001b[1;32m----> 3\u001b[1;33m \u001b[0mlr\u001b[0m\u001b[1;33m.\u001b[0m\u001b[0mfit\u001b[0m\u001b[1;33m(\u001b[0m\u001b[0mfeatures_train\u001b[0m\u001b[1;33m,\u001b[0m \u001b[0mtarget_train\u001b[0m\u001b[1;33m)\u001b[0m\u001b[1;33m\u001b[0m\u001b[1;33m\u001b[0m\u001b[0m\n\u001b[0m",
      "\u001b[1;31mNameError\u001b[0m: name 'features_train' is not defined"
     ]
    }
   ],
   "source": [
    "lr = LinearRegression()\n",
    "lr.fit(features_train, target_train)"
   ]
  },
  {
   "cell_type": "code",
   "execution_count": 59,
   "metadata": {},
   "outputs": [
    {
     "name": "stdout",
     "output_type": "stream",
     "text": [
      "R2 score: 0.9729685355633656\n"
     ]
    }
   ],
   "source": [
    "print(f'R2 score: {lr.score(features_test, target_test)}')"
   ]
  },
  {
   "cell_type": "code",
   "execution_count": 60,
   "metadata": {},
   "outputs": [
    {
     "name": "stdout",
     "output_type": "stream",
     "text": [
      "MAE of linear regression model : 0.2884511406661223 \n",
      "\n",
      "MAE of simple linear model : 0.427382550335571\n"
     ]
    }
   ],
   "source": [
    "print('MAE of linear regression model :',mean_absolute_error(lr.predict(features_test),target_test),'\\n')\n",
    "\n",
    "print('MAE of simple linear model :', mean_absolute_error(linear_target_test,target_test))\n",
    "# Сравнение средних абсолютных ошибок для линейной регрессии и просто линейного сложения"
   ]
  },
  {
   "cell_type": "code",
   "execution_count": 61,
   "metadata": {},
   "outputs": [
    {
     "data": {
      "text/plain": [
       "array([-0.37514975, -0.19808491, -0.25667454, -0.2058081 , -0.22923499])"
      ]
     },
     "execution_count": 61,
     "metadata": {},
     "output_type": "execute_result"
    }
   ],
   "source": [
    "#Рассчет cross_val score на 5 фолдах\n",
    "from sklearn.model_selection import cross_val_score\n",
    "cross_val_score(lr,features,target,scoring='neg_mean_absolute_error')"
   ]
  },
  {
   "cell_type": "markdown",
   "metadata": {},
   "source": [
    "## Part 2"
   ]
  },
  {
   "cell_type": "code",
   "execution_count": 19,
   "metadata": {},
   "outputs": [],
   "source": [
    "from sklearn.linear_model import Ridge,Lasso\n",
    "from sklearn.ensemble import RandomForestRegressor,GradientBoostingRegressor\n"
   ]
  },
  {
   "cell_type": "code",
   "execution_count": null,
   "metadata": {},
   "outputs": [],
   "source": [
    "ridge_model = Ridge()\n",
    "lasso_model = Lasso()\n",
    "rf_model = RandomForestRegressor(n_estimators=100)\n",
    "gb_model = GradientBoostingRegressor()\n",
    "ridge_model.fit(features_train, target_train)\n",
    "lasso_model.fit(features_train, target_train)\n",
    "rf_model.fit(features_train, target_train)\n",
    "gb_model.fit(features_train, target_train)\n"
   ]
  },
  {
   "cell_type": "code",
   "execution_count": 93,
   "metadata": {},
   "outputs": [
    {
     "name": "stdout",
     "output_type": "stream",
     "text": [
      "MAE of linear regression model : 0.2529904568717357 \n",
      "\n",
      "MAE of Ridge model : 0.25299589712250725 \n",
      "\n",
      "MAE of Lasso model : 0.37449018265654493 \n",
      "\n",
      "MAE of Random Forest model : 0.165735186031166 \n",
      "\n",
      "MAE of Gradient Boosting model : 0.17201581144668177 \n",
      "\n"
     ]
    }
   ],
   "source": [
    "print('MAE of linear regression model :',-cross_val_score(lr,features,target,scoring='neg_mean_absolute_error').mean(),'\\n')\n",
    "print('MAE of Ridge model :',-cross_val_score(ridge_model,features,target,scoring='neg_mean_absolute_error').mean(),'\\n')\n",
    "print('MAE of Lasso model :',-cross_val_score(lasso_model,features,target,scoring='neg_mean_absolute_error').mean(),'\\n')\n",
    "print('MAE of Random Forest model :',-cross_val_score(rf_model,features,target,scoring='neg_mean_absolute_error').mean(),'\\n')\n",
    "print('MAE of Gradient Boosting model :',-cross_val_score(gb_model,features,target,scoring='neg_mean_absolute_error').mean(),'\\n')\n"
   ]
  },
  {
   "cell_type": "markdown",
   "metadata": {},
   "source": [
    "Для 5 выбранных моделей посчитали среднюю абсолютную ошибку. Лучшие резульнаты показали модели **Random Forest** и **Gradient Boosting**. Для этих моделей подберем лучшие параметры:"
   ]
  },
  {
   "cell_type": "code",
   "execution_count": 20,
   "metadata": {},
   "outputs": [],
   "source": [
    "from sklearn.model_selection import GridSearchCV "
   ]
  },
  {
   "cell_type": "markdown",
   "metadata": {},
   "source": [
    "**Random Forest**"
   ]
  },
  {
   "cell_type": "code",
   "execution_count": 65,
   "metadata": {},
   "outputs": [
    {
     "data": {
      "text/plain": [
       "dict_keys(['bootstrap', 'ccp_alpha', 'criterion', 'max_depth', 'max_features', 'max_leaf_nodes', 'max_samples', 'min_impurity_decrease', 'min_impurity_split', 'min_samples_leaf', 'min_samples_split', 'min_weight_fraction_leaf', 'n_estimators', 'n_jobs', 'oob_score', 'random_state', 'verbose', 'warm_start'])"
      ]
     },
     "execution_count": 65,
     "metadata": {},
     "output_type": "execute_result"
    }
   ],
   "source": [
    "rf_model.get_params().keys()"
   ]
  },
  {
   "cell_type": "markdown",
   "metadata": {},
   "source": [
    "Подбор лучших параметров будем производить для:\n",
    "**n_estimators**, **max_depth**, **min_samples_leaf** "
   ]
  },
  {
   "cell_type": "code",
   "execution_count": 94,
   "metadata": {},
   "outputs": [],
   "source": [
    "parameters_grid = {\n",
    "    'n_estimators': np.linspace(60,200,num=15,dtype=\"int\"),\n",
    "    'max_depth':np.linspace(1,10,num=10,dtype=\"int\"),\n",
    "    'min_samples_leaf':np.linspace(1,5,num=5,dtype=\"int\")\n",
    "}"
   ]
  },
  {
   "cell_type": "code",
   "execution_count": 95,
   "metadata": {},
   "outputs": [
    {
     "data": {
      "text/plain": [
       "GridSearchCV(cv=None, error_score=nan,\n",
       "             estimator=RandomForestRegressor(bootstrap=True, ccp_alpha=0.0,\n",
       "                                             criterion='mse', max_depth=None,\n",
       "                                             max_features='auto',\n",
       "                                             max_leaf_nodes=None,\n",
       "                                             max_samples=None,\n",
       "                                             min_impurity_decrease=0.0,\n",
       "                                             min_impurity_split=None,\n",
       "                                             min_samples_leaf=1,\n",
       "                                             min_samples_split=2,\n",
       "                                             min_weight_fraction_leaf=0.0,\n",
       "                                             n_estimators=100, n_jobs=None,\n",
       "                                             oob_score=False, random_state=None,\n",
       "                                             verbose=0, warm_start=False),\n",
       "             iid='deprecated', n_jobs=None,\n",
       "             param_grid={'max_depth': array([ 1,  2,  3,  4,  5,  6,  7,  8,  9, 10]),\n",
       "                         'min_samples_leaf': array([1, 2, 3, 4, 5]),\n",
       "                         'n_estimators': array([ 60,  70,  80,  90, 100, 110, 120, 130, 140, 150, 160, 170, 180,\n",
       "       190, 200])},\n",
       "             pre_dispatch='2*n_jobs', refit=True, return_train_score=False,\n",
       "             scoring='neg_mean_absolute_error', verbose=0)"
      ]
     },
     "execution_count": 95,
     "metadata": {},
     "output_type": "execute_result"
    }
   ],
   "source": [
    "#grid_cv = GridSearchCV(rf_model,parameters_grid,scoring='neg_mean_absolute_error')\n",
    "#grid_cv.fit(features,target)"
   ]
  },
  {
   "cell_type": "code",
   "execution_count": 98,
   "metadata": {},
   "outputs": [
    {
     "data": {
      "text/plain": [
       "RandomForestRegressor(bootstrap=True, ccp_alpha=0.0, criterion='mse',\n",
       "                      max_depth=5, max_features='auto', max_leaf_nodes=None,\n",
       "                      max_samples=None, min_impurity_decrease=0.0,\n",
       "                      min_impurity_split=None, min_samples_leaf=5,\n",
       "                      min_samples_split=2, min_weight_fraction_leaf=0.0,\n",
       "                      n_estimators=90, n_jobs=None, oob_score=False,\n",
       "                      random_state=None, verbose=0, warm_start=False)"
      ]
     },
     "execution_count": 98,
     "metadata": {},
     "output_type": "execute_result"
    }
   ],
   "source": [
    "#grid_cv.best_estimator_"
   ]
  },
  {
   "cell_type": "code",
   "execution_count": 23,
   "metadata": {},
   "outputs": [],
   "source": [
    "best_rf_model = RandomForestRegressor(bootstrap=True, ccp_alpha=0.0, criterion='mse',\n",
    "                      max_depth=5, max_features='auto', max_leaf_nodes=None,\n",
    "                      max_samples=None, min_impurity_decrease=0.0,\n",
    "                      min_impurity_split=None, min_samples_leaf=5,\n",
    "                      min_samples_split=2, min_weight_fraction_leaf=0.0,\n",
    "                      n_estimators=90, n_jobs=None, oob_score=False,\n",
    "                      random_state=None, verbose=0, warm_start=False)\n"
   ]
  },
  {
   "cell_type": "code",
   "execution_count": null,
   "metadata": {},
   "outputs": [],
   "source": [
    "#print('MAE :',-grid_cv.best_score_,'\\n')\n",
    "#print(grid_cv.best_params_,'\\n')\n",
    "#print('MAE of linear regression model :',mean_absolute_error(lr.predict(features_test),target_test),'\\n')\n",
    "#print('MAE of best RF model :',-grid_cv.best_score_,'\\n')\n",
    "#print('MAE of random forest model :',mean_absolute_error(rf_model.predict(features_test),target_test),'\\n')\n"
   ]
  },
  {
   "cell_type": "markdown",
   "metadata": {},
   "source": [
    "MAE для этой модели улучшилось. (Небольшое улучшение, но все же)  "
   ]
  },
  {
   "cell_type": "markdown",
   "metadata": {},
   "source": [
    "**Gradient Boosting**"
   ]
  },
  {
   "cell_type": "code",
   "execution_count": 69,
   "metadata": {},
   "outputs": [
    {
     "data": {
      "text/plain": [
       "dict_keys(['alpha', 'ccp_alpha', 'criterion', 'init', 'learning_rate', 'loss', 'max_depth', 'max_features', 'max_leaf_nodes', 'min_impurity_decrease', 'min_impurity_split', 'min_samples_leaf', 'min_samples_split', 'min_weight_fraction_leaf', 'n_estimators', 'n_iter_no_change', 'presort', 'random_state', 'subsample', 'tol', 'validation_fraction', 'verbose', 'warm_start'])"
      ]
     },
     "execution_count": 69,
     "metadata": {},
     "output_type": "execute_result"
    }
   ],
   "source": [
    "gb_model.get_params().keys()"
   ]
  },
  {
   "cell_type": "code",
   "execution_count": 70,
   "metadata": {},
   "outputs": [],
   "source": [
    "parameters_grid = {\n",
    "    'n_estimators': np.linspace(100,200,num=11,dtype=\"int\"),\n",
    "    'max_depth':np.linspace(3,10,num=8,\n",
    "                            dtype=\"int\"),\n",
    "    'min_samples_leaf':np.linspace(1,5,num=5,dtype=\"int\"),\n",
    "    'loss':['ls', 'lad', 'huber', 'quantile']\n",
    "}"
   ]
  },
  {
   "cell_type": "code",
   "execution_count": 72,
   "metadata": {},
   "outputs": [
    {
     "data": {
      "text/plain": [
       "GridSearchCV(cv=None, error_score=nan,\n",
       "             estimator=GradientBoostingRegressor(alpha=0.9, ccp_alpha=0.0,\n",
       "                                                 criterion='friedman_mse',\n",
       "                                                 init=None, learning_rate=0.1,\n",
       "                                                 loss='ls', max_depth=3,\n",
       "                                                 max_features=None,\n",
       "                                                 max_leaf_nodes=None,\n",
       "                                                 min_impurity_decrease=0.0,\n",
       "                                                 min_impurity_split=None,\n",
       "                                                 min_samples_leaf=1,\n",
       "                                                 min_samples_split=2,\n",
       "                                                 min_weight_fraction_leaf=0.0,\n",
       "                                                 n_estimators=100,\n",
       "                                                 n_ite...\n",
       "                                                 verbose=0, warm_start=False),\n",
       "             iid='deprecated', n_jobs=None,\n",
       "             param_grid={'loss': ['ls', 'lad', 'huber', 'quantile'],\n",
       "                         'max_depth': array([ 3,  4,  5,  6,  7,  8,  9, 10]),\n",
       "                         'min_samples_leaf': array([1, 2, 3, 4, 5]),\n",
       "                         'n_estimators': array([100, 110, 120, 130, 140, 150, 160, 170, 180, 190, 200])},\n",
       "             pre_dispatch='2*n_jobs', refit=True, return_train_score=False,\n",
       "             scoring='neg_mean_absolute_error', verbose=0)"
      ]
     },
     "execution_count": 72,
     "metadata": {},
     "output_type": "execute_result"
    }
   ],
   "source": [
    "#grid_cv2 = GridSearchCV(gb_model,parameters_grid,scoring='neg_mean_absolute_error')\n",
    "#grid_cv2.fit(features,target)"
   ]
  },
  {
   "cell_type": "code",
   "execution_count": 102,
   "metadata": {},
   "outputs": [
    {
     "data": {
      "text/plain": [
       "GradientBoostingRegressor(alpha=0.9, ccp_alpha=0.0, criterion='friedman_mse',\n",
       "                          init=None, learning_rate=0.1, loss='ls', max_depth=4,\n",
       "                          max_features=None, max_leaf_nodes=None,\n",
       "                          min_impurity_decrease=0.0, min_impurity_split=None,\n",
       "                          min_samples_leaf=1, min_samples_split=2,\n",
       "                          min_weight_fraction_leaf=0.0, n_estimators=110,\n",
       "                          n_iter_no_change=None, presort='deprecated',\n",
       "                          random_state=None, subsample=1.0, tol=0.0001,\n",
       "                          validation_fraction=0.1, verbose=0, warm_start=False)"
      ]
     },
     "execution_count": 102,
     "metadata": {},
     "output_type": "execute_result"
    }
   ],
   "source": [
    "#grid_cv2.best_estimator_\n",
    "#"
   ]
  },
  {
   "cell_type": "code",
   "execution_count": 22,
   "metadata": {},
   "outputs": [],
   "source": [
    "best_gb_model = GradientBoostingRegressor(alpha=0.9, ccp_alpha=0.0, criterion='friedman_mse',\n",
    "                          init=None, learning_rate=0.1, loss='ls', max_depth=4,\n",
    "                          max_features=None, max_leaf_nodes=None,\n",
    "                          min_impurity_decrease=0.0, min_impurity_split=None,\n",
    "                          min_samples_leaf=1, min_samples_split=2,\n",
    "                          min_weight_fraction_leaf=0.0, n_estimators=110,\n",
    "                          n_iter_no_change=None, presort='deprecated',\n",
    "                          random_state=None, subsample=1.0, tol=0.0001,\n",
    "                          validation_fraction=0.1, verbose=0, warm_start=False)"
   ]
  },
  {
   "cell_type": "code",
   "execution_count": 160,
   "metadata": {
    "scrolled": true
   },
   "outputs": [
    {
     "name": "stdout",
     "output_type": "stream",
     "text": [
      "MAE of best GB model:  0.1632791818517935\n",
      "{'loss': 'ls', 'max_depth': 4, 'min_samples_leaf': 1, 'n_estimators': 110}\n",
      "MAE of Gradient Boosting model : 0.17457129418984035 \n",
      "\n"
     ]
    }
   ],
   "source": [
    "#print(\"MAE of best GB model: \",-grid_cv2.best_score_)\n",
    "#print(grid_cv2.best_params_)\n",
    "#print('MAE of Gradient Boosting model :',-cross_val_score(gb_model,features,target,scoring='neg_mean_absolute_error').mean(),'\\n')\n"
   ]
  },
  {
   "cell_type": "code",
   "execution_count": 68,
   "metadata": {},
   "outputs": [],
   "source": [
    "#Метод, котроый отдает подвыборку из начального датасета, в которую входят все смешения использующие name_of_gasoline\n",
    "def separate_gasoline(name_of_gasoline,dataframe=parsed_data):\n",
    "    output_dataframe = pd.DataFrame()\n",
    "    for i in range(len(dataframe.index)):\n",
    "        if (dataframe.loc[i][name_of_gasoline] != 0):\n",
    "            output_dataframe = output_dataframe.append(dataframe.loc[i])\n",
    "    return output_dataframe        "
   ]
  },
  {
   "cell_type": "markdown",
   "metadata": {},
   "source": [
    "       Теперь посторим модели для каждого бензина поотдельности, которых всего 4 вида. Бензин Нормаль-80 (АИ-80-К5), Бензин Регуляр-92 (АИ-92-К5), Бензин Супер Евро-98 в.III (АИ-98-К5) и Бензин Премиум Евро-95 в.III (АИ-95-К5)."
   ]
  },
  {
   "cell_type": "code",
   "execution_count": 70,
   "metadata": {},
   "outputs": [],
   "source": [
    "#Метод, возвращающий МАЕ для входной модели и данных\n",
    "def get_MAE(data,estimator,target_column=\"ИОЧ\"):\n",
    "    features = data.drop(columns=[target_column,f'Линейный {target_column}'])\n",
    "    target = data[target_column]\n",
    "    features_train, features_test, target_train, target_test = train_test_split(features, target, test_size=0.3)\n",
    "    estimator.fit(features_train,target_train)\n",
    "    print('MAE on train :',mean_absolute_error(estimator.predict(features_train),target_train))\n",
    "    print('MAE on test :',mean_absolute_error(estimator.predict(features_test),target_test))\n",
    "    \n",
    "    \n",
    "    \n"
   ]
  },
  {
   "cell_type": "code",
   "execution_count": 33,
   "metadata": {
    "scrolled": true
   },
   "outputs": [
    {
     "name": "stdout",
     "output_type": "stream",
     "text": [
      "\u001b[1mБензин Регуляр-92 (АИ-92-К5)\u001b[0m\n",
      "Random Forest\n",
      "MAE on train : 0.11726204087788586\n",
      "MAE on test : 0.1452753315068488\n",
      "Gradienn Boosting\n",
      "MAE on train : 0.045892740181249836\n",
      "MAE on test : 0.16048174886216846\n",
      "\n",
      "\u001b[1mБензин Премиум Евро-95 в.III (АИ-95-К5)\u001b[0m\n",
      "Random Forest\n",
      "MAE on train : 0.08308161000545138\n",
      "MAE on test : 0.09487068030116871\n",
      "Gradienn Boosting\n",
      "MAE on train : 0.01816457645135122\n",
      "MAE on test : 0.10509119861712167\n",
      "\n",
      "\u001b[1mБензин Супер Евро-98 в.III (АИ-98-К5)\u001b[0m\n",
      "Random Forest\n",
      "MAE on train : 0.14213603519936327\n",
      "MAE on test : 0.14744087436133022\n",
      "Gradienn Boosting\n",
      "MAE on train : 0.000208020439852703\n",
      "MAE on test : 0.24828931244399463\n",
      "\n",
      "\u001b[1mБензин Нормаль-80 (АИ-80-К5)\u001b[0m\n",
      "Random Forest\n",
      "MAE on train : 0.43615297430376776\n",
      "MAE on test : 0.6080418060334708\n",
      "Gradienn Boosting\n",
      "MAE on train : 0.00026141619843705096\n",
      "MAE on test : 0.9029670580706124\n",
      "\n",
      "\u001b[1mВсе бензины\u001b[0m\n",
      "Random Forest\n",
      "MAE on train : 0.4734198190110886\n",
      "MAE on test : 0.6249249611499735\n",
      "Gradienn Boosting\n",
      "MAE on train : 0.00025140516400903206\n",
      "MAE on test : 0.5693478992955022\n"
     ]
    }
   ],
   "source": [
    "# Бензин Регуляр-92 (АИ-92-К5)\n",
    "gasoline = \"Бензин Регуляр-92 (АИ-92-К5)\"\n",
    "print(f'\\033[1m{gasoline}\\033[0m')\n",
    "print(\"Random Forest\")\n",
    "get_MAE(separate_gasoline(gasoline),best_rf_model)\n",
    "print(\"Gradient Boosting\")\n",
    "get_MAE(separate_gasoline(gasoline),best_gb_model)\n",
    "print()\n",
    "#  Бензин Премиум Евро-95 в.III (АИ-95-К5)\n",
    "gasoline = \"Бензин Премиум Евро-95 в.III (АИ-95-К5)\"\n",
    "print(f'\\033[1m{gasoline}\\033[0m')\n",
    "print(\"Random Forest\")\n",
    "get_MAE(separate_gasoline(gasoline),best_rf_model)\n",
    "print(\"Gradient Boosting\")\n",
    "get_MAE(separate_gasoline(gasoline),best_gb_model)\n",
    "print()\n",
    "#Бензин Супер Евро-98 в.III (АИ-98-К5)\n",
    "gasoline = \"Бензин Супер Евро-98 в.III (АИ-98-К5)\"\n",
    "print(f'\\033[1m{gasoline}\\033[0m')\n",
    "print(\"Random Forest\")\n",
    "get_MAE(separate_gasoline(gasoline),best_rf_model)\n",
    "print(\"Gradient Boosting\")\n",
    "get_MAE(separate_gasoline(gasoline),best_gb_model)\n",
    "print()\n",
    "# Бензин Нормаль-80 (АИ-80-К5)\n",
    "gasoline = \"Бензин Нормаль-80 (АИ-80-К5)\"\n",
    "print(f'\\033[1m{gasoline}\\033[0m')\n",
    "print(\"Random Forest\")\n",
    "get_MAE(separate_gasoline(gasoline),best_rf_model)\n",
    "print(\"Gradienn Boosting\")\n",
    "get_MAE(separate_gasoline(gasoline),best_gb_model)\n",
    "print()\n",
    "#Выборка Всех бензинов\n",
    "print('\\033[1mВсе бензины\\033[0m')\n",
    "print(\"Random Forest\")\n",
    "get_MAE(separate_gasoline(gasoline),best_rf_model)\n",
    "print(\"Gradient Boosting\")\n",
    "get_MAE(separate_gasoline(gasoline),best_gb_model)\n"
   ]
  },
  {
   "cell_type": "markdown",
   "metadata": {},
   "source": [
    "Из вышеизложенных результатов можно сказать, что для выборки из смешений отдельных бензинов модели работают лучше(Как мне кажется будь для 80 и 98 бензинов больше выборка(не 30-40 смешений на 100 деревьев)  модели также дали бы лчше результаты).\n",
    "Также GB быстро переобучился, что конечно не очень хорошо и требует более точноко подбора параметров"
   ]
  },
  {
   "cell_type": "markdown",
   "metadata": {},
   "source": [
    "Проведем аналогичные исследования для **МОЧ** и **ДНП**:"
   ]
  },
  {
   "cell_type": "markdown",
   "metadata": {},
   "source": []
  },
  {
   "cell_type": "code",
   "execution_count": 71,
   "metadata": {},
   "outputs": [
    {
     "name": "stdout",
     "output_type": "stream",
     "text": [
      "МОЧ\n",
      "\u001b[1mБензин Регуляр-92 (АИ-92-К5)\u001b[0m\n",
      "Random Forest\n",
      "MAE on train : 0.10522711985450318\n",
      "MAE on test : 0.12328813898460582\n",
      "Gradient Boosting\n",
      "MAE on train : 0.043936149896241394\n",
      "MAE on test : 0.13455444635339014\n",
      "\n",
      "\u001b[1mБензин Премиум Евро-95 в.III (АИ-95-К5)\u001b[0m\n",
      "Random Forest\n",
      "MAE on train : 0.09007596454772762\n",
      "MAE on test : 0.11606664562037533\n",
      "Gradient Boosting\n",
      "MAE on train : 0.02578994107972173\n",
      "MAE on test : 0.10849900054300213\n",
      "\n",
      "\u001b[1mБензин Супер Евро-98 в.III (АИ-98-К5)\u001b[0m\n",
      "Random Forest\n",
      "MAE on train : 0.08988029535460669\n",
      "MAE on test : 0.16654147593675492\n",
      "Gradient Boosting\n",
      "MAE on train : 0.00024777275103815555\n",
      "MAE on test : 0.16582509867343342\n",
      "\n",
      "\u001b[1mБензин Нормаль-80 (АИ-80-К5)\u001b[0m\n",
      "Random Forest\n",
      "MAE on train : 0.17520069884553532\n",
      "MAE on test : 0.3234389080055749\n",
      "Gradienn Boosting\n",
      "MAE on train : 0.00026786540603853027\n",
      "MAE on test : 0.3046615600483335\n",
      "\n",
      "\u001b[1mВсе бензины\u001b[0m\n",
      "Random Forest\n",
      "MAE on train : 0.24729582278392095\n",
      "MAE on test : 0.22644159636659822\n",
      "Gradient Boosting\n",
      "MAE on train : 0.00025444922313714154\n",
      "MAE on test : 0.36102987659061514\n"
     ]
    }
   ],
   "source": [
    "print(\"МОЧ\")\n",
    "target_column = \"МОЧ\"\n",
    "dataframe = parse_blends_table(xl_table,target_column)\n",
    "# Бензин Регуляр-92 (АИ-92-К5)\n",
    "gasoline = \"Бензин Регуляр-92 (АИ-92-К5)\"\n",
    "print(f'\\033[1m{gasoline}\\033[0m')\n",
    "print(\"Random Forest\")\n",
    "get_MAE(separate_gasoline(gasoline,dataframe),best_rf_model,target_column)\n",
    "print(\"Gradient Boosting\")\n",
    "get_MAE(separate_gasoline(gasoline,dataframe),best_gb_model,target_column)\n",
    "print()\n",
    "#  Бензин Премиум Евро-95 в.III (АИ-95-К5)\n",
    "gasoline = \"Бензин Премиум Евро-95 в.III (АИ-95-К5)\"\n",
    "print(f'\\033[1m{gasoline}\\033[0m')\n",
    "print(\"Random Forest\")\n",
    "get_MAE(separate_gasoline(gasoline,dataframe),best_rf_model,target_column)\n",
    "print(\"Gradient Boosting\")\n",
    "get_MAE(separate_gasoline(gasoline,dataframe),best_gb_model,target_column)\n",
    "print()\n",
    "#Бензин Супер Евро-98 в.III (АИ-98-К5)\n",
    "gasoline = \"Бензин Супер Евро-98 в.III (АИ-98-К5)\"\n",
    "print(f'\\033[1m{gasoline}\\033[0m')\n",
    "print(\"Random Forest\")\n",
    "get_MAE(separate_gasoline(gasoline,dataframe),best_rf_model,target_column)\n",
    "print(\"Gradient Boosting\")\n",
    "get_MAE(separate_gasoline(gasoline,dataframe),best_gb_model,target_column)\n",
    "print()\n",
    "# Бензин Нормаль-80 (АИ-80-К5)\n",
    "gasoline = \"Бензин Нормаль-80 (АИ-80-К5)\"\n",
    "print(f'\\033[1m{gasoline}\\033[0m')\n",
    "print(\"Random Forest\")\n",
    "get_MAE(separate_gasoline(gasoline,dataframe),best_rf_model,target_column)\n",
    "print(\"Gradienn Boosting\")\n",
    "get_MAE(separate_gasoline(gasoline,dataframe),best_gb_model,target_column)\n",
    "print()\n",
    "#Выборка Всех бензинов\n",
    "print('\\033[1mВсе бензины\\033[0m')\n",
    "print(\"Random Forest\")\n",
    "get_MAE(separate_gasoline(gasoline,dataframe),best_rf_model,target_column)\n",
    "print(\"Gradient Boosting\")\n",
    "get_MAE(separate_gasoline(gasoline,dataframe),best_gb_model,target_column)"
   ]
  },
  {
   "cell_type": "code",
   "execution_count": 80,
   "metadata": {},
   "outputs": [
    {
     "name": "stdout",
     "output_type": "stream",
     "text": [
      "ДНП\n",
      "\u001b[1mБензин Регуляр-92 (АИ-92-К5)\u001b[0m\n",
      "Random Forest\n",
      "MAE on train : 3.0992597818614662\n",
      "MAE on test : 3.7415667602631455\n",
      "Gradient Boosting\n",
      "MAE on train : 1.0705553482055898\n",
      "MAE on test : 3.7711489549108257\n",
      "\n",
      "\u001b[1mБензин Премиум Евро-95 в.III (АИ-95-К5)\u001b[0m\n",
      "Random Forest\n",
      "MAE on train : 2.3165553287888465\n",
      "MAE on test : 3.664101647534466\n",
      "Gradient Boosting\n",
      "MAE on train : 0.5482750987541065\n",
      "MAE on test : 3.1221785266947486\n",
      "\n",
      "\u001b[1mБензин Супер Евро-98 в.III (АИ-98-К5)\u001b[0m\n",
      "Random Forest\n",
      "MAE on train : 4.037675431090335\n",
      "MAE on test : 6.245883538302656\n",
      "Gradient Boosting\n",
      "MAE on train : 0.0007850524469526477\n",
      "MAE on test : 8.97669896281925\n",
      "\n",
      "\u001b[1mБензин Нормаль-80 (АИ-80-К5)\u001b[0m\n",
      "Random Forest\n",
      "MAE on train : 4.067519247874401\n",
      "MAE on test : 5.624235516643845\n",
      "Gradienn Boosting\n",
      "MAE on train : 0.0002788579334256675\n",
      "MAE on test : 4.92244101604196\n",
      "\n",
      "\u001b[1mВсе бензины\u001b[0m\n",
      "Random Forest\n",
      "MAE on train : 3.5233848695607337\n",
      "MAE on test : 3.94856700464973\n",
      "Gradient Boosting\n",
      "MAE on train : 2.4930252063223066\n",
      "MAE on test : 3.6767649146207178\n"
     ]
    }
   ],
   "source": [
    "print(\"ДНП\")\n",
    "target_column = \"ДНП\"\n",
    "dataframe = parse_blends_table(xl_table,target_column)\n",
    "# Бензин Регуляр-92 (АИ-92-К5)\n",
    "gasoline = \"Бензин Регуляр-92 (АИ-92-К5)\"\n",
    "print(f'\\033[1m{gasoline}\\033[0m')\n",
    "print(\"Random Forest\")\n",
    "get_MAE(separate_gasoline(gasoline,dataframe),best_rf_model,target_column)\n",
    "print(\"Gradient Boosting\")\n",
    "get_MAE(separate_gasoline(gasoline,dataframe),best_gb_model,target_column)\n",
    "print()\n",
    "#  Бензин Премиум Евро-95 в.III (АИ-95-К5)\n",
    "gasoline = \"Бензин Премиум Евро-95 в.III (АИ-95-К5)\"\n",
    "print(f'\\033[1m{gasoline}\\033[0m')\n",
    "print(\"Random Forest\")\n",
    "get_MAE(separate_gasoline(gasoline,dataframe),best_rf_model,target_column)\n",
    "print(\"Gradient Boosting\")\n",
    "get_MAE(separate_gasoline(gasoline,dataframe),best_gb_model,target_column)\n",
    "print()\n",
    "#Бензин Супер Евро-98 в.III (АИ-98-К5)\n",
    "gasoline = \"Бензин Супер Евро-98 в.III (АИ-98-К5)\"\n",
    "print(f'\\033[1m{gasoline}\\033[0m')\n",
    "print(\"Random Forest\")\n",
    "get_MAE(separate_gasoline(gasoline,dataframe),best_rf_model,target_column)\n",
    "print(\"Gradient Boosting\")\n",
    "get_MAE(separate_gasoline(gasoline,dataframe),best_gb_model,target_column)\n",
    "print()\n",
    "# Бензин Нормаль-80 (АИ-80-К5)\n",
    "gasoline = \"Бензин Нормаль-80 (АИ-80-К5)\"\n",
    "print(f'\\033[1m{gasoline}\\033[0m')\n",
    "print(\"Random Forest\")\n",
    "get_MAE(separate_gasoline(gasoline,dataframe),best_rf_model,target_column)\n",
    "print(\"Gradienn Boosting\")\n",
    "get_MAE(separate_gasoline(gasoline,dataframe),best_gb_model,target_column)\n",
    "print()\n",
    "#Выборка Всех бензинов\n",
    "print('\\033[1mВсе бензины\\033[0m')\n",
    "print(\"Random Forest\")\n",
    "get_MAE(dataframe,best_rf_model,target_column)\n",
    "print(\"Gradient Boosting\")\n",
    "get_MAE(dataframe,GradientBoostingRegressor(),target_column)"
   ]
  },
  {
   "cell_type": "code",
   "execution_count": 78,
   "metadata": {},
   "outputs": [
    {
     "name": "stdout",
     "output_type": "stream",
     "text": [
      "Линейная модель для ДНП\n",
      "MAE on train : 3.2152405089542433\n",
      "MAE on test : 5.174355560376176\n"
     ]
    }
   ],
   "source": [
    "print(\"Линейная модель для ДНП\")\n",
    "get_MAE(separate_gasoline(gasoline,dataframe),LinearRegression(),target_column)"
   ]
  },
  {
   "cell_type": "code",
   "execution_count": 79,
   "metadata": {},
   "outputs": [
    {
     "name": "stdout",
     "output_type": "stream",
     "text": [
      "Линейная модель для МОЧ\n",
      "MAE on train : 2.6710101532998967\n",
      "MAE on test : 6.695820813081886\n"
     ]
    }
   ],
   "source": [
    "print(\"Линейная модель для МОЧ\")\n",
    "get_MAE(separate_gasoline(gasoline,dataframe),LinearRegression(),target_column)"
   ]
  },
  {
   "cell_type": "code",
   "execution_count": null,
   "metadata": {},
   "outputs": [],
   "source": []
  }
 ],
 "metadata": {
  "kernelspec": {
   "display_name": "Python 3",
   "language": "python",
   "name": "python3"
  },
  "language_info": {
   "codemirror_mode": {
    "name": "ipython",
    "version": 3
   },
   "file_extension": ".py",
   "mimetype": "text/x-python",
   "name": "python",
   "nbconvert_exporter": "python",
   "pygments_lexer": "ipython3",
   "version": "3.7.6"
  }
 },
 "nbformat": 4,
 "nbformat_minor": 4
}
